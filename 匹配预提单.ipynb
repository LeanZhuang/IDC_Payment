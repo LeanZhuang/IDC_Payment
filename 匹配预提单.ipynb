{
 "cells": [
  {
   "cell_type": "code",
   "execution_count": 1,
   "metadata": {},
   "outputs": [],
   "source": [
    "import pandas as pd\n",
    "import os\n",
    "from openpyxl import load_workbook\n",
    "from openpyxl import Workbook\n",
    "from openpyxl.utils.dataframe import dataframe_to_rows\n",
    "from openpyxl.utils import get_column_letter\n",
    "from openpyxl.styles import Font, PatternFill"
   ]
  },
  {
   "cell_type": "markdown",
   "metadata": {},
   "source": [
    "加载预提表"
   ]
  },
  {
   "cell_type": "code",
   "execution_count": 2,
   "metadata": {},
   "outputs": [
    {
     "name": "stderr",
     "output_type": "stream",
     "text": [
      "/Users/zhuangyuhao/miniconda3/envs/myenv/lib/python3.11/site-packages/openpyxl/worksheet/_read_only.py:79: UserWarning: Conditional Formatting extension is not supported and will be removed\n",
      "  for idx, row in parser.parse():\n",
      "/Users/zhuangyuhao/miniconda3/envs/myenv/lib/python3.11/site-packages/openpyxl/worksheet/_read_only.py:79: UserWarning: Conditional Formatting extension is not supported and will be removed\n",
      "  for idx, row in parser.parse():\n",
      "/Users/zhuangyuhao/miniconda3/envs/myenv/lib/python3.11/site-packages/openpyxl/worksheet/_read_only.py:79: UserWarning: Conditional Formatting extension is not supported and will be removed\n",
      "  for idx, row in parser.parse():\n",
      "/Users/zhuangyuhao/miniconda3/envs/myenv/lib/python3.11/site-packages/openpyxl/worksheet/_read_only.py:79: UserWarning: Conditional Formatting extension is not supported and will be removed\n",
      "  for idx, row in parser.parse():\n",
      "/Users/zhuangyuhao/miniconda3/envs/myenv/lib/python3.11/site-packages/openpyxl/worksheet/_read_only.py:79: UserWarning: Conditional Formatting extension is not supported and will be removed\n",
      "  for idx, row in parser.parse():\n",
      "/Users/zhuangyuhao/miniconda3/envs/myenv/lib/python3.11/site-packages/openpyxl/worksheet/_read_only.py:79: UserWarning: Conditional Formatting extension is not supported and will be removed\n",
      "  for idx, row in parser.parse():\n",
      "/Users/zhuangyuhao/miniconda3/envs/myenv/lib/python3.11/site-packages/openpyxl/worksheet/_read_only.py:79: UserWarning: Conditional Formatting extension is not supported and will be removed\n",
      "  for idx, row in parser.parse():\n",
      "/Users/zhuangyuhao/miniconda3/envs/myenv/lib/python3.11/site-packages/openpyxl/worksheet/_read_only.py:79: UserWarning: Conditional Formatting extension is not supported and will be removed\n",
      "  for idx, row in parser.parse():\n",
      "/Users/zhuangyuhao/miniconda3/envs/myenv/lib/python3.11/site-packages/openpyxl/worksheet/_read_only.py:79: UserWarning: Conditional Formatting extension is not supported and will be removed\n",
      "  for idx, row in parser.parse():\n"
     ]
    }
   ],
   "source": [
    "# 2306\n",
    "expense_2305_bandwidth = pd.read_excel('/Users/zhuangyuhao/Documents/Fileport/预算表/2305 带宽.xlsx')\n",
    "expense_2305_no_bandwidth = pd.read_excel('/Users/zhuangyuhao/Documents/Fileport/预算表/2305 非带宽.xlsx')\n",
    "\n",
    "# 2306\n",
    "expense_2306_bandwidth = pd.read_excel('/Users/zhuangyuhao/Documents/Fileport/预算表/2306 带宽.xlsx')\n",
    "expense_2306_no_bandwidth = pd.read_excel('/Users/zhuangyuhao/Documents/Fileport/预算表/2306 非带宽.xlsx')\n",
    "\n",
    "# 2307\n",
    "expense_2307_bandwidth = pd.read_excel('/Users/zhuangyuhao/Documents/Fileport/预算表/2307 带宽.xlsx', sheet_name='202307带宽')\n",
    "expense_2307_no_bandwidth = pd.read_excel('/Users/zhuangyuhao/Documents/Fileport/预算表/2307 非带宽.xlsx')\n",
    "\n",
    "# 2308\n",
    "expense_2308_bandwidth = pd.read_excel('/Users/zhuangyuhao/Documents/Fileport/预算表/2308 带宽.xlsx')\n",
    "expense_2308_no_bandwidth = pd.read_excel('/Users/zhuangyuhao/Documents/Fileport/预算表/2308 非带宽.xlsx')\n",
    "\n",
    "# 2309\n",
    "expense_2309_bandwidth = pd.read_excel('/Users/zhuangyuhao/Documents/Fileport/预算表/2309 带宽.xlsx')\n",
    "expense_2309_no_bandwidth = pd.read_excel('/Users/zhuangyuhao/Documents/Fileport/预算表/2309 非带宽.xlsx')\n",
    "\n",
    "\n",
    "no_bandwidth_list = [expense_2305_no_bandwidth, expense_2306_no_bandwidth, expense_2308_no_bandwidth, expense_2307_no_bandwidth, expense_2309_no_bandwidth]\n",
    "bandwidth_list = [expense_2305_bandwidth, expense_2306_bandwidth, expense_2308_bandwidth, expense_2307_bandwidth, expense_2309_bandwidth]\n"
   ]
  },
  {
   "cell_type": "markdown",
   "metadata": {},
   "source": [
    "*以上只用初始化运行*\n",
    "\n",
    "---"
   ]
  },
  {
   "cell_type": "code",
   "execution_count": 3,
   "metadata": {},
   "outputs": [],
   "source": [
    "desktop_path = os.path.expanduser(\"~/Desktop\")\n",
    "files = [f for f in os.listdir(desktop_path) if f.endswith(\".xlsx\")]\n",
    "latest_file = max(files, key=lambda x: os.path.getctime(os.path.join(desktop_path, x)))\n",
    "file_path = os.path.join(desktop_path, latest_file)\n",
    "\n",
    "check = pd.read_excel(file_path)"
   ]
  },
  {
   "cell_type": "code",
   "execution_count": 4,
   "metadata": {},
   "outputs": [],
   "source": [
    "contract_id = check['合同编号'].to_list()\n",
    "contract_id = list(set(contract_id))\n",
    "\n",
    "no_bandwidth_need = pd.DataFrame([])\n",
    "bandwidth_need = pd.DataFrame([])\n",
    "\n",
    "\n",
    "for id in contract_id:\n",
    "    for database in no_bandwidth_list:\n",
    "        database = database[database['当前计提合同'] == id]\n",
    "        no_bandwidth_need = pd.concat([no_bandwidth_need, database])\n",
    "\n",
    "for id in contract_id:\n",
    "    for database in bandwidth_list:\n",
    "        database = database[database['当前计提合同'] == id]\n",
    "        bandwidth_need = pd.concat([bandwidth_need, database])\n"
   ]
  },
  {
   "cell_type": "code",
   "execution_count": 5,
   "metadata": {},
   "outputs": [],
   "source": [
    "period_list = check['费用表月份'].to_list()\n",
    "\n",
    "period_list = list(map(str, period_list))\n",
    "\n",
    "period_list = [period.replace('-', '') for period in period_list]\n",
    "period_list = list(set(period_list))"
   ]
  },
  {
   "cell_type": "code",
   "execution_count": 6,
   "metadata": {},
   "outputs": [],
   "source": [
    "bandwidth_need['费用期间'] = bandwidth_need['费用期间'].astype(str)\n",
    "no_bandwidth_need['费用期间'] = no_bandwidth_need['费用期间'].astype(str)\n"
   ]
  },
  {
   "cell_type": "code",
   "execution_count": 7,
   "metadata": {},
   "outputs": [],
   "source": [
    "\n",
    "bandwidth_need = bandwidth_need[bandwidth_need['费用期间'].isin(period_list)]\n",
    "no_bandwidth_need = no_bandwidth_need[no_bandwidth_need['费用期间'].isin(period_list)]\n"
   ]
  },
  {
   "cell_type": "code",
   "execution_count": 8,
   "metadata": {},
   "outputs": [],
   "source": [
    "# 保存中间表\n",
    "bandwidth_need.to_excel('/Users/zhuangyuhao/Downloads/带宽.xlsx', index=False)\n",
    "no_bandwidth_need.to_excel('/Users/zhuangyuhao/Downloads/非带宽.xlsx', index=False)"
   ]
  },
  {
   "cell_type": "markdown",
   "metadata": {},
   "source": [
    "格式化带宽预提"
   ]
  },
  {
   "cell_type": "code",
   "execution_count": 9,
   "metadata": {},
   "outputs": [],
   "source": [
    "# 加载工作簿\n",
    "workbook = load_workbook('/Users/zhuangyuhao/Downloads/带宽.xlsx')\n",
    "sheet = workbook.active\n",
    "\n",
    "# 定义值和公式所在的区域范围\n",
    "last_row = sheet.max_row\n",
    "\n",
    "col_list = {'A':'地点', 'B':'地点', 'C':'SYS统计',\n",
    "            'D':'运营商统计', 'E':'差异率', 'F':'中值',\n",
    "            'G':'结算流量', 'H':'计费单位', 'I':'结算'}\n",
    "\n",
    "fill = PatternFill(fill_type='solid', fgColor='ACD6FF')\n",
    "\n",
    "# 循环遍历要输入值的列表\n",
    "for key, value in col_list.items():\n",
    "    row = last_row + 2  # 计算要输入行的行号\n",
    "    cell = f'{key}{row}'  # 构建单元格地址\n",
    "    sheet[cell] = value  # 输入值到单元格\n",
    "    sheet[cell].fill = fill\n",
    "\n",
    "\n",
    "row = last_row + 3\n",
    "cell = f'E{row}'\n",
    "sheet[cell] = f'=(D{row}-C{row})/D{row}'\n",
    "\n",
    "cell = f'F{row}'\n",
    "sheet[cell] = f'=AVERAGE(C{row},D{row})'\n",
    "\n",
    "cell = f'I{row}'\n",
    "sheet[cell] = f'=G{row}*H{row}'\n",
    "\n",
    "\n",
    "workbook.save('/Users/zhuangyuhao/Downloads/带宽.xlsx')\n"
   ]
  },
  {
   "cell_type": "markdown",
   "metadata": {},
   "source": [
    "格式化非带宽预提"
   ]
  },
  {
   "cell_type": "code",
   "execution_count": 10,
   "metadata": {},
   "outputs": [],
   "source": [
    "# 加载工作簿\n",
    "workbook = load_workbook('/Users/zhuangyuhao/Downloads/非带宽.xlsx')\n",
    "sheet = workbook.active\n",
    "\n",
    "# 定义值和公式所在的区域范围\n",
    "last_row = sheet.max_row\n",
    "\n",
    "\n",
    "fill = PatternFill(fill_type='solid', fgColor='FFFF6F')\n",
    "\n",
    "row = last_row + 1\n",
    "cell = f'R{row}'\n",
    "sheet[cell] = f'=SUM(R2:R{row-1})'\n",
    "sheet[cell].fill = fill\n",
    "\n",
    "\n",
    "cell = f'Q{row}'\n",
    "sheet[cell] = f'合计'\n",
    "sheet[cell].fill = fill\n",
    "\n",
    "\n",
    "workbook.save('/Users/zhuangyuhao/Downloads/非带宽.xlsx')\n"
   ]
  }
 ],
 "metadata": {
  "kernelspec": {
   "display_name": "myenv",
   "language": "python",
   "name": "python3"
  },
  "language_info": {
   "codemirror_mode": {
    "name": "ipython",
    "version": 3
   },
   "file_extension": ".py",
   "mimetype": "text/x-python",
   "name": "python",
   "nbconvert_exporter": "python",
   "pygments_lexer": "ipython3",
   "version": "3.11.5"
  }
 },
 "nbformat": 4,
 "nbformat_minor": 2
}
